{
 "cells": [
  {
   "cell_type": "markdown",
   "id": "90cba4f2-d672-4473-a8e7-1dad55e3602d",
   "metadata": {},
   "source": [
    "### 1.Counting DNA Nucleotides"
   ]
  },
  {
   "cell_type": "code",
   "execution_count": 8,
   "id": "8326fd25-587a-4bb2-a433-2e47f21cbc3d",
   "metadata": {},
   "outputs": [
    {
     "name": "stdout",
     "output_type": "stream",
     "text": [
      "224\n",
      "205\n",
      "206\n",
      "246\n"
     ]
    }
   ],
   "source": [
    "DNA_Seq = \"ACGTGCTACCCACGCAAGGAGGTTTTAATACGGTTATGGTAATGCTCAAAACTCTCTCCCCCACACGCAAGGCGCCGCCAAAATTCTAACCGCGTATCTAGAGAATGTGGTGGCAGCTGGTCAAGGCCAGGTTTTAACGCTCTCCCAAAAAGGTACAATGGGACACAGACCTCTCGTTTTTGTCGTACGTAAGTTGCCTAATCGGCGGATGCCTGGGACCTCAGATGGAGGGTCCATTTCCTGCTTCATGTGATGTTAAAACGAAATTACAACAGTACGGGGTTATTGACTTCCTCCATAGCGGAACCCCACAATGCAGGCATGTTGTATCGAGCTATAGTTACGTACAGGGGTGGGCGTTCAGTATCAAGTATCTTATAATAGACTTCCTCCTTGTCAGCTAACCCCACAGGACGCCTTATATTGTGACATGCCTATCTAAGCGAGTCGATGAGAGTCGCGTGATTGGTGGCATGGAAGATTAGTCGCCTATGACCACCCATGGGCTGCTCAAGTAAACGAATGAACTAACAGCACTATTTTGTTCTTTACTTTTTGATCTTCCAAAAAGAGATGATCTCTTAAAGTCGGTAGACACATCTTCTGCTTCGAGTGTAGTCAAGCCTTAAATTGAGGACTTGTGTATGTCGCCCCTTGCACTTCAATAGTGGAGAAATGCGGAGGGAACTCGTAAATACCTAGGTAAGCCAATTACAGATCGTATAACGCAACTGAGCGGTCCGGGCCAGGGGTCTGCATCATGACGATATAACATGTTTGTCTTATTTCGATATCAGTAACACGCGTGGTTTTGTTCTCTTAACTTGTCCGTGTAAGCCTTCTTCACTCACCCTGGTCGTTGTTAGCTAACCGGTGCCTGT\"\n",
    "# Find the number of individual nucleotides\n",
    "Adenine_count = DNA_Seq.count('A')\n",
    "print(Adenine_count) #to be precise use- print(f'Adenine count is {Adenine_count}')\n",
    "Cystosine_count = DNA_Seq.count('C')\n",
    "print(Cystosine_count)\n",
    "Guanine_count = DNA_Seq.count('G')\n",
    "print(Guanine_count)\n",
    "Thymine_count = DNA_Seq.count('T')\n",
    "print(Thymine_count)\n",
    "\n"
   ]
  },
  {
   "cell_type": "code",
   "execution_count": null,
   "id": "21fadd17-40a0-44f5-8082-937ff9bc72dc",
   "metadata": {},
   "outputs": [],
   "source": []
  }
 ],
 "metadata": {
  "kernelspec": {
   "display_name": "Python 3 (ipykernel)",
   "language": "python",
   "name": "python3"
  },
  "language_info": {
   "codemirror_mode": {
    "name": "ipython",
    "version": 3
   },
   "file_extension": ".py",
   "mimetype": "text/x-python",
   "name": "python",
   "nbconvert_exporter": "python",
   "pygments_lexer": "ipython3",
   "version": "3.12.7"
  }
 },
 "nbformat": 4,
 "nbformat_minor": 5
}
