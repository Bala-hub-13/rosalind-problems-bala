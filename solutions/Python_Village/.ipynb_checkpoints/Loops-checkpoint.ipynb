{
 "cells": [
  {
   "cell_type": "markdown",
   "id": "28239dba-e243-4af9-ad42-c7b6e68ef04d",
   "metadata": {},
   "source": [
    "### Loops \n",
    "#### The sum of all odd integers from a through b, *inclusively*, where a and b are integers."
   ]
  },
  {
   "cell_type": "code",
   "execution_count": null,
   "id": "f157939e-dc35-4046-b012-424d46f4c2aa",
   "metadata": {},
   "outputs": [],
   "source": [
    "a = 4206 \n",
    "b = 8467\n",
    "sum_of_odds = sum(i for i in range(a, b + 1) if i % 2 == 1) \n",
    "print(sum_of_odds)"
   ]
  }
 ],
 "metadata": {
  "kernelspec": {
   "display_name": "Python 3 (ipykernel)",
   "language": "python",
   "name": "python3"
  },
  "language_info": {
   "codemirror_mode": {
    "name": "ipython",
    "version": 3
   },
   "file_extension": ".py",
   "mimetype": "text/x-python",
   "name": "python",
   "nbconvert_exporter": "python",
   "pygments_lexer": "ipython3",
   "version": "3.12.7"
  }
 },
 "nbformat": 4,
 "nbformat_minor": 5
}
