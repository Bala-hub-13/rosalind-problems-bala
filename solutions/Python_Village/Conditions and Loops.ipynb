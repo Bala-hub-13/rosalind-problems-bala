{
 "cells": [
  {
   "cell_type": "markdown",
   "id": "34ad8700-a2c8-43fb-adb5-49416bc416c6",
   "metadata": {},
   "source": [
    "# Conditions and Loops# _ here we go_\n"
   ]
  }
 ],
 "metadata": {
  "kernelspec": {
   "display_name": "Python 3 (ipykernel)",
   "language": "python",
   "name": "python3"
  },
  "language_info": {
   "codemirror_mode": {
    "name": "ipython",
    "version": 3
   },
   "file_extension": ".py",
   "mimetype": "text/x-python",
   "name": "python",
   "nbconvert_exporter": "python",
   "pygments_lexer": "ipython3",
   "version": "3.13.1"
  }
 },
 "nbformat": 4,
 "nbformat_minor": 5
}
