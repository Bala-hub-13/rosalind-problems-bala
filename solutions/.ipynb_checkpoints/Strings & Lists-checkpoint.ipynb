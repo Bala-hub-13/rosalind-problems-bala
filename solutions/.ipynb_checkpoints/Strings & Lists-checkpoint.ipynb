{
 "cells": [
  {
   "cell_type": "markdown",
   "id": "3f911edc-a225-4ee0-926f-e58630a24740",
   "metadata": {},
   "source": [
    "# Strings and Lists #\n",
    "We were given a dataset and the values are assingned using _0-based numbering_ in Python.\n",
    "\n",
    " Given was a string of max 200 values and four integers were assigned \n",
    " Return: The slice of this string from indices a through b and c through d\n",
    " (with space in between), inclusively.\n",
    "\n",
    "\n",
    "\n"
   ]
  },
  {
   "cell_type": "code",
   "execution_count": 13,
   "id": "b561b844-e01a-43f6-8ac8-e7ce9127ede3",
   "metadata": {},
   "outputs": [
    {
     "name": "stdout",
     "output_type": "stream",
     "text": [
      "Pelomedusa microlepis\n"
     ]
    }
   ],
   "source": [
    "s =\"inH8Fo4QVX3Ym8jv60EESQERupDTl9usUTtKAzRx2aPelomedusap03DtzokUSIcOh54Da627LvY2KXI6yRZyxOf0microlepis7NkuvV7HD7m6rp6G4wIW3dTcHXrkucq8hRqqTW3k3MM4OJITZVuUoblItHyN0fUHYDeCBrH8.\"\n",
    "a, b, c, d = 42, 51, 89, 98\n",
    "# a:b will eliminate the value of the \"b\" character, so we use +1, to include it.\n",
    "print (s[a:b+1], s[c:d+1])"
   ]
  },
  {
   "cell_type": "code",
   "execution_count": null,
   "id": "ade3543d-542a-4f20-9373-333724ab89ae",
   "metadata": {},
   "outputs": [],
   "source": []
  }
 ],
 "metadata": {
  "kernelspec": {
   "display_name": "Python 3 (ipykernel)",
   "language": "python",
   "name": "python3"
  },
  "language_info": {
   "codemirror_mode": {
    "name": "ipython",
    "version": 3
   },
   "file_extension": ".py",
   "mimetype": "text/x-python",
   "name": "python",
   "nbconvert_exporter": "python",
   "pygments_lexer": "ipython3",
   "version": "3.12.7"
  }
 },
 "nbformat": 4,
 "nbformat_minor": 5
}
